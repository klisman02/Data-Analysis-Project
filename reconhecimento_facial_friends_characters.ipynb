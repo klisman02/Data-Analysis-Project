{
  "cells": [
    {
      "cell_type": "markdown",
      "metadata": {
        "id": "view-in-github",
        "colab_type": "text"
      },
      "source": [
        "<a href=\"https://colab.research.google.com/github/klisman02/Data-Analysis-Project/blob/main/reconhecimento_facial_friends_characters.ipynb\" target=\"_parent\"><img src=\"https://colab.research.google.com/assets/colab-badge.svg\" alt=\"Open In Colab\"/></a>"
      ]
    },
    {
      "cell_type": "code",
      "execution_count": 1,
      "id": "1910a5c5",
      "metadata": {
        "colab": {
          "base_uri": "https://localhost:8080/"
        },
        "id": "1910a5c5",
        "outputId": "b533c8ff-c000-4281-fdf7-bc177d513086"
      },
      "outputs": [
        {
          "output_type": "stream",
          "name": "stdout",
          "text": [
            "  Preparing metadata (setup.py) ... \u001b[?25l\u001b[?25hdone\n",
            "\u001b[2K   \u001b[90m━━━━━━━━━━━━━━━━━━━━━━━━━━━━━━━━━━━━━━━━\u001b[0m \u001b[32m1.9/1.9 MB\u001b[0m \u001b[31m15.2 MB/s\u001b[0m eta \u001b[36m0:00:00\u001b[0m\n",
            "\u001b[2K   \u001b[90m━━━━━━━━━━━━━━━━━━━━━━━━━━━━━━━━━━━━━━━━\u001b[0m \u001b[32m1.3/1.3 MB\u001b[0m \u001b[31m25.4 MB/s\u001b[0m eta \u001b[36m0:00:00\u001b[0m\n",
            "\u001b[?25h  Building wheel for keras-facenet (setup.py) ... \u001b[?25l\u001b[?25hdone\n"
          ]
        }
      ],
      "source": [
        "# ==============================\n",
        "# Instalação das dependências\n",
        "# ==============================\n",
        "!pip install --quiet tensorflow opencv-python keras-facenet scikit-learn matplotlib numpy\n"
      ]
    },
    {
      "cell_type": "code",
      "execution_count": null,
      "id": "fb50f1fc",
      "metadata": {
        "id": "fb50f1fc"
      },
      "outputs": [],
      "source": [
        "# ==============================\n",
        "# Imports principais\n",
        "# ==============================\n",
        "import tensorflow as tf\n",
        "import cv2\n",
        "import numpy as np\n",
        "from keras_facenet import FaceNet\n",
        "from sklearn.preprocessing import Normalizer\n",
        "from sklearn.svm import SVC\n",
        "from sklearn.metrics import classification_report\n",
        "import matplotlib.pyplot as plt\n",
        "import os\n",
        "\n",
        "print(\"TensorFlow:\", tf.__version__)\n",
        "print(\"OpenCV:\", cv2.__version__)\n",
        "print(\"NumPy:\", np.__version__)\n"
      ]
    },
    {
      "cell_type": "code",
      "execution_count": null,
      "id": "1609e64e",
      "metadata": {
        "id": "1609e64e"
      },
      "outputs": [],
      "source": [
        "# ==============================\n",
        "# Baixar modelo de detecção de faces do OpenCV (SSD)\n",
        "# ==============================\n",
        "proto = \"deploy.prototxt\"\n",
        "model = \"res10_300x300_ssd_iter_140000.caffemodel\"\n",
        "\n",
        "!wget -q https://raw.githubusercontent.com/opencv/opencv/master/samples/dnn/face_detector/deploy.prototxt -O $proto\n",
        "!wget -q https://raw.githubusercontent.com/opencv/opencv_3rdparty/master/res10_300x300_ssd_iter_140000.caffemodel -O $model\n",
        "\n",
        "# Carregar detector\n",
        "face_net = cv2.dnn.readNetFromCaffe(proto, model)\n",
        "\n",
        "# Inicializar FaceNet para embeddings\n",
        "embedder = FaceNet()\n",
        "l2_normalizer = Normalizer('l2')\n",
        "\n",
        "print(\"✅ Modelos carregados com sucesso!\")\n"
      ]
    },
    {
      "cell_type": "code",
      "execution_count": null,
      "id": "2e6d4f05",
      "metadata": {
        "id": "2e6d4f05"
      },
      "outputs": [],
      "source": [
        "# ==============================\n",
        "# Funções auxiliares\n",
        "# ==============================\n",
        "def detect_faces(img_bgr, conf_threshold=0.9):\n",
        "    h, w = img_bgr.shape[:2]\n",
        "    blob = cv2.dnn.blobFromImage(img_bgr, 1.0, (300, 300), (104, 177, 123))\n",
        "    face_net.setInput(blob)\n",
        "    detections = face_net.forward()\n",
        "\n",
        "    faces = []\n",
        "    boxes = []\n",
        "    for i in range(detections.shape[2]):\n",
        "        confidence = detections[0, 0, i, 2]\n",
        "        if confidence > conf_threshold:\n",
        "            box = detections[0, 0, i, 3:7] * np.array([w, h, w, h])\n",
        "            (x1, y1, x2, y2) = box.astype(\"int\")\n",
        "            x1, y1 = max(0, x1), max(0, y1)\n",
        "            x2, y2 = min(w-1, x2), min(h-1, y2)\n",
        "            face = img_bgr[y1:y2, x1:x2]\n",
        "            if face.size > 0:\n",
        "                faces.append(face)\n",
        "                boxes.append((x1, y1, x2, y2))\n",
        "    return faces, boxes\n",
        "\n",
        "def embed_faces(faces):\n",
        "    embeddings = []\n",
        "    for f in faces:\n",
        "        f_rgb = cv2.cvtColor(f, cv2.COLOR_BGR2RGB)\n",
        "        embs = embedder.embeddings([f_rgb])\n",
        "        embeddings.append(l2_normalizer.transform(embs)[0])\n",
        "    return np.array(embeddings)\n"
      ]
    },
    {
      "cell_type": "code",
      "source": [
        "# !ls \"/content/drive/MyDrive/\"\n",
        "# !ls \"/content/drive/MyDrive/reconhecimento_facial/\"\n",
        "# !ls \"/content/drive/MyDrive/reconhecimento_facial/train\"\n",
        "# !ls \"/content/drive/MyDrive/reconhecimento_facial/val\""
      ],
      "metadata": {
        "id": "1Zg1jHOOCsq8"
      },
      "id": "1Zg1jHOOCsq8",
      "execution_count": null,
      "outputs": []
    },
    {
      "cell_type": "code",
      "execution_count": null,
      "id": "53df147d",
      "metadata": {
        "id": "53df147d"
      },
      "outputs": [],
      "source": [
        "# ==============================\n",
        "# Carregar dataset (train e val)\n",
        "# Estrutura esperada:\n",
        "# /content/train/Chandler/*.jpg\n",
        "# /content/train/Joey/*.jpg\n",
        "# ...\n",
        "# ==============================\n",
        "def load_dataset(root_dir):\n",
        "    X, y = [], []\n",
        "    classes = sorted(os.listdir(root_dir))\n",
        "    print(\"Classes:\", classes)\n",
        "    for label in classes:\n",
        "        folder = os.path.join(root_dir, label)\n",
        "        for fname in os.listdir(folder):\n",
        "            path = os.path.join(folder, fname)\n",
        "            img = cv2.imread(path)\n",
        "            if img is None:\n",
        "                continue\n",
        "            faces, _ = detect_faces(img)\n",
        "            if len(faces) > 0:\n",
        "                embs = embed_faces([faces[0]])  # assume 1 rosto por imagem\n",
        "                X.append(embs[0])\n",
        "                y.append(label)\n",
        "    return np.array(X), np.array(y)\n",
        "\n",
        "X_train, y_train = load_dataset(\"/content/drive/MyDrive/reconhecimento_facial/train\")\n",
        "X_val, y_val = load_dataset(\"/content/drive/MyDrive/reconhecimento_facial/val\")\n"
      ]
    },
    {
      "cell_type": "code",
      "execution_count": null,
      "id": "6b034b4e",
      "metadata": {
        "id": "6b034b4e"
      },
      "outputs": [],
      "source": [
        "# ==============================\n",
        "# Treinar classificador (SVM)\n",
        "# ==============================\n",
        "clf = SVC(kernel='linear', probability=True)\n",
        "clf.fit(X_train, y_train)\n",
        "\n",
        "y_pred = clf.predict(X_val)\n",
        "print(classification_report(y_val, y_pred))\n"
      ]
    },
    {
      "cell_type": "code",
      "execution_count": null,
      "id": "3c6b7623",
      "metadata": {
        "id": "3c6b7623"
      },
      "outputs": [],
      "source": [
        "# ==============================\n",
        "# Testar em imagem com todos juntos\n",
        "# ==============================\n",
        "img = cv2.imread(\"/content/drive/MyDrive/reconhecimento_facial/friends-cast.webp\")  # coloque uma foto do elenco todo\n",
        "faces, boxes = detect_faces(img)\n",
        "\n",
        "if faces:\n",
        "    embs = embed_faces(faces)\n",
        "    preds = clf.predict(embs)\n",
        "    for (x1, y1, x2, y2), label in zip(boxes, preds):\n",
        "        cv2.rectangle(img, (x1, y1), (x2, y2), (0,255,0), 2)\n",
        "        cv2.putText(img, label, (x1, y1-10), cv2.FONT_HERSHEY_SIMPLEX, 0.9, (0,255,0), 2)\n",
        "\n",
        "plt.imshow(cv2.cvtColor(img, cv2.COLOR_BGR2RGB))\n",
        "plt.axis(\"off\")\n",
        "plt.show()\n"
      ]
    }
  ],
  "metadata": {
    "colab": {
      "provenance": [],
      "include_colab_link": true
    },
    "language_info": {
      "name": "python"
    },
    "kernelspec": {
      "name": "python3",
      "display_name": "Python 3"
    }
  },
  "nbformat": 4,
  "nbformat_minor": 5
}