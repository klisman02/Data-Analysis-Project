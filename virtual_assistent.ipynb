{
  "nbformat": 4,
  "nbformat_minor": 0,
  "metadata": {
    "colab": {
      "provenance": [],
      "authorship_tag": "ABX9TyOoUPWgg8RV0/V6zISDtvLJ",
      "include_colab_link": true
    },
    "kernelspec": {
      "name": "python3",
      "display_name": "Python 3"
    },
    "language_info": {
      "name": "python"
    }
  },
  "cells": [
    {
      "cell_type": "markdown",
      "metadata": {
        "id": "view-in-github",
        "colab_type": "text"
      },
      "source": [
        "<a href=\"https://colab.research.google.com/github/klisman02/Data-Analysis-Project/blob/main/virtual_assistent.ipynb\" target=\"_parent\"><img src=\"https://colab.research.google.com/assets/colab-badge.svg\" alt=\"Open In Colab\"/></a>"
      ]
    },
    {
      "cell_type": "code",
      "execution_count": null,
      "metadata": {
        "colab": {
          "base_uri": "https://localhost:8080/"
        },
        "id": "wyhC8kEIVDkb",
        "outputId": "f4547b12-f477-43c2-f213-c1080ec90c39"
      },
      "outputs": [
        {
          "output_type": "stream",
          "name": "stdout",
          "text": [
            "Requirement already satisfied: SpeechRecognition in /usr/local/lib/python3.12/dist-packages (3.14.3)\n",
            "Requirement already satisfied: gTTS in /usr/local/lib/python3.12/dist-packages (2.5.4)\n",
            "Requirement already satisfied: wikipedia in /usr/local/lib/python3.12/dist-packages (1.4.0)\n",
            "Requirement already satisfied: pyttsx3 in /usr/local/lib/python3.12/dist-packages (2.99)\n",
            "Requirement already satisfied: playsound==1.2.2 in /usr/local/lib/python3.12/dist-packages (1.2.2)\n",
            "Requirement already satisfied: typing-extensions in /usr/local/lib/python3.12/dist-packages (from SpeechRecognition) (4.15.0)\n",
            "Requirement already satisfied: requests<3,>=2.27 in /usr/local/lib/python3.12/dist-packages (from gTTS) (2.32.4)\n",
            "Requirement already satisfied: click<8.2,>=7.1 in /usr/local/lib/python3.12/dist-packages (from gTTS) (8.1.8)\n",
            "Requirement already satisfied: beautifulsoup4 in /usr/local/lib/python3.12/dist-packages (from wikipedia) (4.13.5)\n",
            "Requirement already satisfied: charset_normalizer<4,>=2 in /usr/local/lib/python3.12/dist-packages (from requests<3,>=2.27->gTTS) (3.4.3)\n",
            "Requirement already satisfied: idna<4,>=2.5 in /usr/local/lib/python3.12/dist-packages (from requests<3,>=2.27->gTTS) (3.10)\n",
            "Requirement already satisfied: urllib3<3,>=1.21.1 in /usr/local/lib/python3.12/dist-packages (from requests<3,>=2.27->gTTS) (2.5.0)\n",
            "Requirement already satisfied: certifi>=2017.4.17 in /usr/local/lib/python3.12/dist-packages (from requests<3,>=2.27->gTTS) (2025.8.3)\n",
            "Requirement already satisfied: soupsieve>1.2 in /usr/local/lib/python3.12/dist-packages (from beautifulsoup4->wikipedia) (2.8)\n"
          ]
        }
      ],
      "source": [
        "# assistant_colab.ipynb (coloque tudo numa célula do Colab)\n",
        "\n",
        "# Instala dependências\n",
        "!pip install SpeechRecognition gTTS wikipedia pyttsx3 playsound==1.2.2\n",
        "\n",
        "import os\n",
        "import wikipedia\n",
        "import webbrowser\n",
        "import speech_recognition as sr\n",
        "from gtts import gTTS\n",
        "from IPython.display import Audio, display\n",
        "\n",
        "# Configura Wikipédia em português\n",
        "wikipedia.set_lang(\"pt\")\n",
        "\n",
        "# --- Funções TTS ---\n",
        "def speak(text, filename=\"output.mp3\"):\n",
        "    print(\"Assistente:\", text)\n",
        "    tts = gTTS(text=text, lang=\"pt\")\n",
        "    tts.save(filename)\n",
        "    display(Audio(filename, autoplay=True))\n",
        "\n",
        "# --- Funções STT (no Colab: só funciona com upload de arquivo) ---\n",
        "def transcribe_audio(file_path):\n",
        "    recognizer = sr.Recognizer()\n",
        "    with sr.AudioFile(file_path) as source:\n",
        "        audio = recognizer.record(source)\n",
        "    try:\n",
        "        text = recognizer.recognize_google(audio, language=\"pt-BR\")\n",
        "        print(\"Você disse:\", text)\n",
        "        return text.lower()\n",
        "    except sr.UnknownValueError:\n",
        "        return \"\"\n",
        "    except sr.RequestError:\n",
        "        speak(\"Erro ao acessar o serviço de reconhecimento.\")\n",
        "        return \"\"\n",
        "\n",
        "# --- Intent simples ---\n",
        "def handle_intent(text):\n",
        "    if not text:\n",
        "        return \"unknown\", text\n",
        "    if \"wikip\" in text or \"pesquisar\" in text:\n",
        "        return \"wikipedia\", text\n",
        "    if \"youtube\" in text:\n",
        "        return \"youtube\", text\n",
        "    if \"farmácia\" in text or \"farmacia\" in text:\n",
        "        return \"pharmacy\", text\n",
        "    if \"oi\" in text or \"olá\" in text:\n",
        "        return \"greeting\", text\n",
        "    if \"sair\" in text or \"tchau\" in text:\n",
        "        return \"exit\", text\n",
        "    return \"unknown\", text\n",
        "\n",
        "# --- Executor ---\n",
        "def execute(intent, original_text):\n",
        "    if intent == \"wikipedia\":\n",
        "        term = original_text.replace(\"pesquisar\", \"\").replace(\"na wikipedia\",\"\").strip()\n",
        "        if not term:\n",
        "            speak(\"Sobre o que você quer pesquisar na Wikipédia?\")\n",
        "            return\n",
        "        try:\n",
        "            summary = wikipedia.summary(term, sentences=2)\n",
        "            speak(f\"Segundo a Wikipédia: {summary}\")\n",
        "        except:\n",
        "            speak(\"Não encontrei resultados na Wikipédia.\")\n",
        "    elif intent == \"youtube\":\n",
        "        query = original_text.replace(\"youtube\", \"\").strip()\n",
        "        url = \"https://www.youtube.com\" if not query else f\"https://www.youtube.com/results?search_query={query.replace(' ','+')}\"\n",
        "        speak(\"Abrindo YouTube...\")\n",
        "        print(\"URL:\", url)\n",
        "    elif intent == \"pharmacy\":\n",
        "        url = \"https://www.google.com/maps/search/farmácia+mais+próxima\"\n",
        "        speak(\"Mostrando farmácias próximas...\")\n",
        "        print(\"URL:\", url)\n",
        "    elif intent == \"greeting\":\n",
        "        speak(\"Olá! Em que posso ajudar?\")\n",
        "    elif intent == \"exit\":\n",
        "        speak(\"Até logo!\")\n",
        "        return \"exit\"\n",
        "    else:\n",
        "        speak(\"Desculpe, não entendi o comando.\")\n",
        "\n",
        "# --- Demonstração no Colab ---\n",
        "# Você pode digitar um comando de texto para simular a voz:\n",
        "while True:\n",
        "    comando = input(\"\\nDigite um comando (ou 'sair' para encerrar): \")\n",
        "    intent, orig = handle_intent(comando.lower())\n",
        "    res = execute(intent, orig)\n",
        "    if res == \"exit\":\n",
        "        break\n"
      ]
    }
  ]
}